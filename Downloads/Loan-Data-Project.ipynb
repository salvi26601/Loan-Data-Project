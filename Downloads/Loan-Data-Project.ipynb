{
 "cells": [
  {
   "cell_type": "markdown",
   "id": "eb36327a",
   "metadata": {},
   "source": [
    "# Importing packages"
   ]
  },
  {
   "cell_type": "code",
   "execution_count": 1,
   "id": "494d6352",
   "metadata": {},
   "outputs": [],
   "source": [
    "import numpy as np"
   ]
  },
  {
   "cell_type": "code",
   "execution_count": 2,
   "id": "eca00d2f",
   "metadata": {},
   "outputs": [],
   "source": [
    "np.set_printoptions(suppress = True, linewidth = 100, precision = 2)\n",
    "#linewidth - extend the no. of characters to fit in a single line of output as 100\n",
    "#precision - set the number of decimal places to 2"
   ]
  },
  {
   "cell_type": "markdown",
   "id": "45f63d69",
   "metadata": {},
   "source": [
    "# Importing file "
   ]
  },
  {
   "cell_type": "code",
   "execution_count": 3,
   "id": "cd02d0cd",
   "metadata": {},
   "outputs": [
    {
     "name": "stdout",
     "output_type": "stream",
     "text": [
      "[[48010226.           nan    35000.   ...         nan         nan     9452.96]\n",
      " [57693261.           nan    30000.   ...         nan         nan     4679.7 ]\n",
      " [59432726.           nan    15000.   ...         nan         nan     1969.83]\n",
      " ...\n",
      " [50415990.           nan    10000.   ...         nan         nan     2185.64]\n",
      " [46154151.           nan         nan ...         nan         nan     3199.4 ]\n",
      " [66055249.           nan    10000.   ...         nan         nan      301.9 ]]\n"
     ]
    }
   ],
   "source": [
    "raw_data_np = np.genfromtxt(\"loan-data.csv\", delimiter = \";\", skip_header = 1, autostrip = True)\n",
    "#autostrip - removes extra white spaces\n",
    "#skip_header used since we saw that the entire first row had \"nan\" values\n",
    "print(raw_data_np)"
   ]
  },
  {
   "cell_type": "markdown",
   "id": "83fe4a23",
   "metadata": {},
   "source": [
    "# Checking for incomplete data"
   ]
  },
  {
   "cell_type": "code",
   "execution_count": 4,
   "id": "36085fbd",
   "metadata": {},
   "outputs": [
    {
     "data": {
      "text/plain": [
       "88005"
      ]
     },
     "execution_count": 4,
     "metadata": {},
     "output_type": "execute_result"
    }
   ],
   "source": [
    "np.isnan(raw_data_np).sum()"
   ]
  },
  {
   "cell_type": "code",
   "execution_count": 5,
   "id": "60998d26",
   "metadata": {},
   "outputs": [
    {
     "name": "stderr",
     "output_type": "stream",
     "text": [
      "C:\\Users\\Hp\\AppData\\Local\\Temp\\ipykernel_1464\\2759050640.py:2: RuntimeWarning: Mean of empty slice\n",
      "  temp_mean = np.nanmean(raw_data_np, axis = 0)        # Holds the mean for every column\n"
     ]
    }
   ],
   "source": [
    "temp_fill = np.nanmax(raw_data_np) + 1               # A filler for the missing entries which is the max of all values+1\n",
    "temp_mean = np.nanmean(raw_data_np, axis = 0)        # Holds the mean for every column\n",
    "# The warning means that some columns may be full of texts so mean connot be computed"
   ]
  },
  {
   "cell_type": "code",
   "execution_count": 6,
   "id": "ef2e8bda",
   "metadata": {},
   "outputs": [
    {
     "data": {
      "text/plain": [
       "array([54015809.19,         nan,    15273.46,         nan,    15311.04,         nan,       16.62,\n",
       "            440.92,         nan,         nan,         nan,         nan,         nan,     3143.85])"
      ]
     },
     "execution_count": 6,
     "metadata": {},
     "output_type": "execute_result"
    }
   ],
   "source": [
    "temp_mean\n",
    "# The values having temp_mean as \"nan\" means either they were all strings in the column or all values were nan\n",
    "# For computational purposes it is not advisable to put all strings and numbers in the same array, so we'll split them"
   ]
  },
  {
   "cell_type": "code",
   "execution_count": 7,
   "id": "4ec1964a",
   "metadata": {
    "scrolled": true
   },
   "outputs": [
    {
     "name": "stderr",
     "output_type": "stream",
     "text": [
      "C:\\Users\\Hp\\AppData\\Local\\Temp\\ipykernel_1464\\3317913290.py:1: RuntimeWarning: All-NaN slice encountered\n",
      "  temp_stats = np.array([np.nanmin(raw_data_np, axis = 0), temp_mean, np.nanmax(raw_data_np, axis = 0)])\n"
     ]
    },
    {
     "data": {
      "text/plain": [
       "array([[  373332.  ,         nan,     1000.  ,         nan,     1000.  ,         nan,        6.  ,\n",
       "              31.42,         nan,         nan,         nan,         nan,         nan,        0.  ],\n",
       "       [54015809.19,         nan,    15273.46,         nan,    15311.04,         nan,       16.62,\n",
       "             440.92,         nan,         nan,         nan,         nan,         nan,     3143.85],\n",
       "       [68616519.  ,         nan,    35000.  ,         nan,    35000.  ,         nan,       28.99,\n",
       "            1372.97,         nan,         nan,         nan,         nan,         nan,    41913.62]])"
      ]
     },
     "execution_count": 7,
     "metadata": {},
     "output_type": "execute_result"
    }
   ],
   "source": [
    "temp_stats = np.array([np.nanmin(raw_data_np, axis = 0), temp_mean, np.nanmax(raw_data_np, axis = 0)])\n",
    "temp_stats"
   ]
  },
  {
   "cell_type": "markdown",
   "id": "54837f97",
   "metadata": {},
   "source": [
    "# Splitting the dataset"
   ]
  },
  {
   "cell_type": "code",
   "execution_count": 8,
   "id": "cf535fca",
   "metadata": {},
   "outputs": [
    {
     "data": {
      "text/plain": [
       "array([ 1,  3,  5,  8,  9, 10, 11, 12], dtype=int64)"
      ]
     },
     "execution_count": 8,
     "metadata": {},
     "output_type": "execute_result"
    }
   ],
   "source": [
    "#We can differentiate between the string columns and numeric columns using the temp_mean\n",
    "column_string = np.argwhere(np.isnan(temp_mean)).squeeze()\n",
    "column_string"
   ]
  },
  {
   "cell_type": "code",
   "execution_count": 9,
   "id": "4b5400a6",
   "metadata": {},
   "outputs": [
    {
     "data": {
      "text/plain": [
       "array([ 0,  2,  4,  6,  7, 13], dtype=int64)"
      ]
     },
     "execution_count": 9,
     "metadata": {},
     "output_type": "execute_result"
    }
   ],
   "source": [
    "column_num = np.argwhere(np.isnan(temp_mean) == False).squeeze()\n",
    "column_num"
   ]
  },
  {
   "cell_type": "markdown",
   "id": "4dfc0f6b",
   "metadata": {},
   "source": [
    "# Re-importing the dataset"
   ]
  },
  {
   "cell_type": "code",
   "execution_count": 10,
   "id": "b708e2e3",
   "metadata": {},
   "outputs": [
    {
     "data": {
      "text/plain": [
       "array([['May-15', 'Current', '36 months', ..., 'Verified',\n",
       "        'https://www.lendingclub.com/browse/loanDetail.action?loan_id=48010226', 'CA'],\n",
       "       ['', 'Current', '36 months', ..., 'Source Verified',\n",
       "        'https://www.lendingclub.com/browse/loanDetail.action?loan_id=57693261', 'NY'],\n",
       "       ['Sep-15', 'Current', '36 months', ..., 'Verified',\n",
       "        'https://www.lendingclub.com/browse/loanDetail.action?loan_id=59432726', 'PA'],\n",
       "       ...,\n",
       "       ['Jun-15', 'Current', '36 months', ..., 'Source Verified',\n",
       "        'https://www.lendingclub.com/browse/loanDetail.action?loan_id=50415990', 'CA'],\n",
       "       ['Apr-15', 'Current', '36 months', ..., 'Source Verified',\n",
       "        'https://www.lendingclub.com/browse/loanDetail.action?loan_id=46154151', 'OH'],\n",
       "       ['Dec-15', 'Current', '36 months', ..., '',\n",
       "        'https://www.lendingclub.com/browse/loanDetail.action?loan_id=66055249', 'IL']],\n",
       "      dtype='<U69')"
      ]
     },
     "execution_count": 10,
     "metadata": {},
     "output_type": "execute_result"
    }
   ],
   "source": [
    "# The string dataset\n",
    "loan_data_string = np.genfromtxt(\"loan-data.csv\", \n",
    "                                 delimiter = \";\", \n",
    "                                 skip_header = 1, \n",
    "                                 autostrip = True, \n",
    "                                 usecols = column_string,\n",
    "                                 dtype = np.str_)\n",
    "loan_data_string"
   ]
  },
  {
   "cell_type": "code",
   "execution_count": 11,
   "id": "fc5820ad",
   "metadata": {},
   "outputs": [
    {
     "data": {
      "text/plain": [
       "array([[48010226.  ,    35000.  ,    35000.  ,       13.33,     1184.86,     9452.96],\n",
       "       [57693261.  ,    30000.  ,    30000.  , 68616520.  ,      938.57,     4679.7 ],\n",
       "       [59432726.  ,    15000.  ,    15000.  , 68616520.  ,      494.86,     1969.83],\n",
       "       ...,\n",
       "       [50415990.  ,    10000.  ,    10000.  , 68616520.  , 68616520.  ,     2185.64],\n",
       "       [46154151.  , 68616520.  ,    10000.  ,       16.55,      354.3 ,     3199.4 ],\n",
       "       [66055249.  ,    10000.  ,    10000.  , 68616520.  ,      309.97,      301.9 ]])"
      ]
     },
     "execution_count": 11,
     "metadata": {},
     "output_type": "execute_result"
    }
   ],
   "source": [
    "# The numeric dataset\n",
    "loan_data_num = np.genfromtxt(\"loan-data.csv\", \n",
    "                               delimiter = \";\", \n",
    "                               skip_header = 1, \n",
    "                               autostrip = True, \n",
    "                               usecols = column_num,\n",
    "                               filling_values = temp_fill)\n",
    "loan_data_num"
   ]
  },
  {
   "cell_type": "markdown",
   "id": "b143bdcb",
   "metadata": {},
   "source": [
    "# The names of the columns"
   ]
  },
  {
   "cell_type": "code",
   "execution_count": 12,
   "id": "f4e23a7f",
   "metadata": {},
   "outputs": [
    {
     "data": {
      "text/plain": [
       "array(['id', 'issue_d', 'loan_amnt', 'loan_status', 'funded_amnt', 'term', 'int_rate',\n",
       "       'installment', 'grade', 'sub_grade', 'verification_status', 'url', 'addr_state',\n",
       "       'total_pymnt'], dtype='<U69')"
      ]
     },
     "execution_count": 12,
     "metadata": {},
     "output_type": "execute_result"
    }
   ],
   "source": [
    "# We are interested only in the header of the original dataset\n",
    "header_full = np.genfromtxt(\"loan-data.csv\", delimiter = \";\", autostrip = True, dtype = np.str_)[0,:]\n",
    "header_full"
   ]
  },
  {
   "cell_type": "code",
   "execution_count": 13,
   "id": "7ca41955",
   "metadata": {},
   "outputs": [],
   "source": [
    "header_strings , header_nums = header_full[column_string] , header_full[column_num]"
   ]
  },
  {
   "cell_type": "code",
   "execution_count": 14,
   "id": "2f8813b0",
   "metadata": {},
   "outputs": [
    {
     "data": {
      "text/plain": [
       "array(['issue_d', 'loan_status', 'term', 'grade', 'sub_grade', 'verification_status', 'url',\n",
       "       'addr_state'], dtype='<U69')"
      ]
     },
     "execution_count": 14,
     "metadata": {},
     "output_type": "execute_result"
    }
   ],
   "source": [
    "header_strings"
   ]
  },
  {
   "cell_type": "code",
   "execution_count": 15,
   "id": "b7b462a7",
   "metadata": {},
   "outputs": [
    {
     "data": {
      "text/plain": [
       "array(['id', 'loan_amnt', 'funded_amnt', 'int_rate', 'installment', 'total_pymnt'], dtype='<U69')"
      ]
     },
     "execution_count": 15,
     "metadata": {},
     "output_type": "execute_result"
    }
   ],
   "source": [
    "header_nums"
   ]
  },
  {
   "cell_type": "markdown",
   "id": "3a85f6b4",
   "metadata": {},
   "source": [
    "# Creating Chechpoints"
   ]
  },
  {
   "cell_type": "code",
   "execution_count": 16,
   "id": "c12f4812",
   "metadata": {},
   "outputs": [],
   "source": [
    "# Places throughout our code where we store a copy of our data (or parts of it)\n",
    "# We can avoid the loss of a lot of progress\n",
    "# It's a very healthy and reliable practice when working with large datasets and when cleaning various parts of it"
   ]
  },
  {
   "cell_type": "code",
   "execution_count": 17,
   "id": "d37d9100",
   "metadata": {},
   "outputs": [],
   "source": [
    "def checkpoint(file_name , checkpoint_header , checkpoint_data):\n",
    "    np.savez(file_name, header = checkpoint_header , data = checkpoint_data)\n",
    "    checkpoint_variable = np.load(file_name + \".npz\")\n",
    "    return checkpoint_variable"
   ]
  },
  {
   "cell_type": "code",
   "execution_count": 18,
   "id": "41582a64",
   "metadata": {},
   "outputs": [],
   "source": [
    "check = checkpoint(\"checkpoint-test\", header_strings, loan_data_string)"
   ]
  },
  {
   "cell_type": "code",
   "execution_count": 19,
   "id": "8e2ffb30",
   "metadata": {},
   "outputs": [
    {
     "data": {
      "text/plain": [
       "array(['issue_d', 'loan_status', 'term', 'grade', 'sub_grade', 'verification_status', 'url',\n",
       "       'addr_state'], dtype='<U69')"
      ]
     },
     "execution_count": 19,
     "metadata": {},
     "output_type": "execute_result"
    }
   ],
   "source": [
    "check[\"header\"]"
   ]
  },
  {
   "cell_type": "code",
   "execution_count": 20,
   "id": "0687150e",
   "metadata": {},
   "outputs": [
    {
     "data": {
      "text/plain": [
       "array([['May-15', 'Current', '36 months', ..., 'Verified',\n",
       "        'https://www.lendingclub.com/browse/loanDetail.action?loan_id=48010226', 'CA'],\n",
       "       ['', 'Current', '36 months', ..., 'Source Verified',\n",
       "        'https://www.lendingclub.com/browse/loanDetail.action?loan_id=57693261', 'NY'],\n",
       "       ['Sep-15', 'Current', '36 months', ..., 'Verified',\n",
       "        'https://www.lendingclub.com/browse/loanDetail.action?loan_id=59432726', 'PA'],\n",
       "       ...,\n",
       "       ['Jun-15', 'Current', '36 months', ..., 'Source Verified',\n",
       "        'https://www.lendingclub.com/browse/loanDetail.action?loan_id=50415990', 'CA'],\n",
       "       ['Apr-15', 'Current', '36 months', ..., 'Source Verified',\n",
       "        'https://www.lendingclub.com/browse/loanDetail.action?loan_id=46154151', 'OH'],\n",
       "       ['Dec-15', 'Current', '36 months', ..., '',\n",
       "        'https://www.lendingclub.com/browse/loanDetail.action?loan_id=66055249', 'IL']],\n",
       "      dtype='<U69')"
      ]
     },
     "execution_count": 20,
     "metadata": {},
     "output_type": "execute_result"
    }
   ],
   "source": [
    "check[\"data\"]"
   ]
  },
  {
   "cell_type": "markdown",
   "id": "12e68561",
   "metadata": {},
   "source": [
    "# Manipulating text data : Issue Date"
   ]
  },
  {
   "cell_type": "code",
   "execution_count": 21,
   "id": "d2970062",
   "metadata": {},
   "outputs": [
    {
     "data": {
      "text/plain": [
       "array(['Issue_Date', 'loan_status', 'term', 'grade', 'sub_grade', 'verification_status', 'url',\n",
       "       'addr_state'], dtype='<U69')"
      ]
     },
     "execution_count": 21,
     "metadata": {},
     "output_type": "execute_result"
    }
   ],
   "source": [
    "header_strings[0] = \"Issue_Date\"                   # Earlier issue_d was not so descriptive for its purpose\n",
    "header_strings"
   ]
  },
  {
   "cell_type": "code",
   "execution_count": 22,
   "id": "b9e2b096",
   "metadata": {},
   "outputs": [
    {
     "data": {
      "text/plain": [
       "array(['', 'Apr-15', 'Aug-15', 'Dec-15', 'Feb-15', 'Jan-15', 'Jul-15', 'Jun-15', 'Mar-15',\n",
       "       'May-15', 'Nov-15', 'Oct-15', 'Sep-15'], dtype='<U69')"
      ]
     },
     "execution_count": 22,
     "metadata": {},
     "output_type": "execute_result"
    }
   ],
   "source": [
    "np.unique(loan_data_string[:,0])"
   ]
  },
  {
   "cell_type": "code",
   "execution_count": 23,
   "id": "fcab3b4a",
   "metadata": {},
   "outputs": [
    {
     "data": {
      "text/plain": [
       "array(['May', '', 'Sep', ..., 'Jun', 'Apr', 'Dec'], dtype='<U69')"
      ]
     },
     "execution_count": 23,
     "metadata": {},
     "output_type": "execute_result"
    }
   ],
   "source": [
    "# The values are all from year 2015 so we can strip off -15 as it does not disrupt any useful information and store it\n",
    "loan_data_string[:,0] = np.chararray.strip(loan_data_string[:,0] , \"-15\")\n",
    "loan_data_string[:,0]"
   ]
  },
  {
   "cell_type": "code",
   "execution_count": 24,
   "id": "af428c15",
   "metadata": {},
   "outputs": [],
   "source": [
    "# In analysis, represent month values as integers\n",
    "# Store the data in lesser space\n",
    "# Easy-to-follow order for months"
   ]
  },
  {
   "cell_type": "code",
   "execution_count": 25,
   "id": "79bced65",
   "metadata": {},
   "outputs": [],
   "source": [
    "months = np.array([\"\", \"Jan\", \"Feb\", \"Mar\", \"Apr\", \"May\", \"Jun\", \"Jul\", \"Aug\", \"Sep\", \"Oct\", \"Nov\", \"Dec\"])"
   ]
  },
  {
   "cell_type": "code",
   "execution_count": 26,
   "id": "dc5e7df8",
   "metadata": {},
   "outputs": [
    {
     "data": {
      "text/plain": [
       "array(['5', '0', '9', ..., '6', '4', '12'], dtype='<U69')"
      ]
     },
     "execution_count": 26,
     "metadata": {},
     "output_type": "execute_result"
    }
   ],
   "source": [
    "for i in range(13):\n",
    "    loan_data_string[:,0] = np.where(loan_data_string[:,0] == months[i],\n",
    "                                     i,\n",
    "                                     loan_data_string[:,0])\n",
    "loan_data_string[:,0]\n",
    "# These are string values for now but we'll not cast them right away (in a later stage)"
   ]
  },
  {
   "cell_type": "markdown",
   "id": "bdfd7336",
   "metadata": {},
   "source": [
    "# Loan Status"
   ]
  },
  {
   "cell_type": "code",
   "execution_count": 27,
   "id": "a9d7ce45",
   "metadata": {},
   "outputs": [
    {
     "data": {
      "text/plain": [
       "array(['Issue_Date', 'loan_status', 'term', 'grade', 'sub_grade', 'verification_status', 'url',\n",
       "       'addr_state'], dtype='<U69')"
      ]
     },
     "execution_count": 27,
     "metadata": {},
     "output_type": "execute_result"
    }
   ],
   "source": [
    "header_strings"
   ]
  },
  {
   "cell_type": "code",
   "execution_count": 28,
   "id": "6e7f8b0a",
   "metadata": {},
   "outputs": [
    {
     "data": {
      "text/plain": [
       "array(['', 'Charged Off', 'Current', 'Default', 'Fully Paid', 'In Grace Period', 'Issued',\n",
       "       'Late (16-30 days)', 'Late (31-120 days)'], dtype='<U69')"
      ]
     },
     "execution_count": 28,
     "metadata": {},
     "output_type": "execute_result"
    }
   ],
   "source": [
    "np.unique(loan_data_string[:,1])"
   ]
  },
  {
   "cell_type": "code",
   "execution_count": 29,
   "id": "47add668",
   "metadata": {},
   "outputs": [],
   "source": [
    "# In loan status, we can assign numbers to each status but in regression we are only considered if the candidate is in a \n",
    "# good financial condition\n",
    "# So we'll categorize them as \"good - 1\" or \"bad - 0\""
   ]
  },
  {
   "cell_type": "code",
   "execution_count": 30,
   "id": "4e2bf0e8",
   "metadata": {},
   "outputs": [],
   "source": [
    "status_bad = [\"\", \"Charged Off\", \"Default\", \"Late (31-120 days)\"]"
   ]
  },
  {
   "cell_type": "code",
   "execution_count": 31,
   "id": "63017d48",
   "metadata": {},
   "outputs": [],
   "source": [
    "loan_data_string[:,1] = np.where(np.isin(loan_data_string[:,1], status_bad), 0, 1)"
   ]
  },
  {
   "cell_type": "code",
   "execution_count": 32,
   "id": "060ed3a1",
   "metadata": {},
   "outputs": [
    {
     "data": {
      "text/plain": [
       "array(['0', '1'], dtype='<U69')"
      ]
     },
     "execution_count": 32,
     "metadata": {},
     "output_type": "execute_result"
    }
   ],
   "source": [
    "np.unique(loan_data_string[:,1])"
   ]
  },
  {
   "cell_type": "markdown",
   "id": "7ceec2c5",
   "metadata": {},
   "source": [
    "# Term"
   ]
  },
  {
   "cell_type": "code",
   "execution_count": 33,
   "id": "1eb319d6",
   "metadata": {},
   "outputs": [
    {
     "data": {
      "text/plain": [
       "array(['Issue_Date', 'loan_status', 'term', 'grade', 'sub_grade', 'verification_status', 'url',\n",
       "       'addr_state'], dtype='<U69')"
      ]
     },
     "execution_count": 33,
     "metadata": {},
     "output_type": "execute_result"
    }
   ],
   "source": [
    "header_strings"
   ]
  },
  {
   "cell_type": "code",
   "execution_count": 34,
   "id": "037b7766",
   "metadata": {},
   "outputs": [
    {
     "data": {
      "text/plain": [
       "array(['', '36 months', '60 months'], dtype='<U69')"
      ]
     },
     "execution_count": 34,
     "metadata": {},
     "output_type": "execute_result"
    }
   ],
   "source": [
    "np.unique(loan_data_string[:,2])"
   ]
  },
  {
   "cell_type": "code",
   "execution_count": 35,
   "id": "efbc7fce",
   "metadata": {},
   "outputs": [
    {
     "data": {
      "text/plain": [
       "array(['36', '36', '36', ..., '36', '36', '36'], dtype='<U69')"
      ]
     },
     "execution_count": 35,
     "metadata": {},
     "output_type": "execute_result"
    }
   ],
   "source": [
    "loan_data_string[:,2] = np.chararray.strip(loan_data_string[:,2], \" months\")\n",
    "loan_data_string[:,2]"
   ]
  },
  {
   "cell_type": "code",
   "execution_count": 36,
   "id": "7e09312a",
   "metadata": {},
   "outputs": [],
   "source": [
    "header_strings[2] = \"Term_months\"         # More descriptive name"
   ]
  },
  {
   "cell_type": "code",
   "execution_count": 37,
   "id": "2c71f37b",
   "metadata": {},
   "outputs": [
    {
     "data": {
      "text/plain": [
       "array(['36', '60'], dtype='<U69')"
      ]
     },
     "execution_count": 37,
     "metadata": {},
     "output_type": "execute_result"
    }
   ],
   "source": [
    "# We'll assign 60 for the missing value (because in CRM, we assume the worst)\n",
    "loan_data_string[:,2] = np.where(loan_data_string[:,2] == \"\", '60', loan_data_string[:,2])\n",
    "np.unique(loan_data_string[:,2])"
   ]
  },
  {
   "cell_type": "markdown",
   "id": "7fef209b",
   "metadata": {},
   "source": [
    "# Grade and Subgrade"
   ]
  },
  {
   "cell_type": "code",
   "execution_count": 38,
   "id": "a5960947",
   "metadata": {},
   "outputs": [
    {
     "data": {
      "text/plain": [
       "array(['Issue_Date', 'loan_status', 'Term_months', 'grade', 'sub_grade', 'verification_status',\n",
       "       'url', 'addr_state'], dtype='<U69')"
      ]
     },
     "execution_count": 38,
     "metadata": {},
     "output_type": "execute_result"
    }
   ],
   "source": [
    "header_strings"
   ]
  },
  {
   "cell_type": "code",
   "execution_count": 39,
   "id": "26078f08",
   "metadata": {},
   "outputs": [
    {
     "data": {
      "text/plain": [
       "array(['', 'A', 'B', 'C', 'D', 'E', 'F', 'G'], dtype='<U69')"
      ]
     },
     "execution_count": 39,
     "metadata": {},
     "output_type": "execute_result"
    }
   ],
   "source": [
    "np.unique(loan_data_string[:,3])"
   ]
  },
  {
   "cell_type": "code",
   "execution_count": 40,
   "id": "814f7e42",
   "metadata": {},
   "outputs": [
    {
     "data": {
      "text/plain": [
       "array(['', 'A1', 'A2', 'A3', 'A4', 'A5', 'B1', 'B2', 'B3', 'B4', 'B5', 'C1', 'C2', 'C3', 'C4',\n",
       "       'C5', 'D1', 'D2', 'D3', 'D4', 'D5', 'E1', 'E2', 'E3', 'E4', 'E5', 'F1', 'F2', 'F3', 'F4',\n",
       "       'F5', 'G1', 'G2', 'G3', 'G4', 'G5'], dtype='<U69')"
      ]
     },
     "execution_count": 40,
     "metadata": {},
     "output_type": "execute_result"
    }
   ],
   "source": [
    "np.unique(loan_data_string[:,4])"
   ]
  },
  {
   "cell_type": "markdown",
   "id": "43ef9ef8",
   "metadata": {},
   "source": [
    "# Filling sub grade"
   ]
  },
  {
   "cell_type": "code",
   "execution_count": 41,
   "id": "75a3593c",
   "metadata": {},
   "outputs": [],
   "source": [
    "# For filling sub grade, it is better to fill the worst(like B5, D5) for a corresponding grade\n",
    "# np.unique(loan_data_string[:,3])[1:] - means we start the loop from position 1 in unique grade array, i.e., 'A' leaving ''\n",
    "for i in np.unique(loan_data_string[:,3])[1:]:\n",
    "    loan_data_string[:,4] = np.where((loan_data_string[:,4] == '') & (loan_data_string[:,3] == i),\n",
    "                                      i + '5',\n",
    "                                      loan_data_string[:,4])"
   ]
  },
  {
   "cell_type": "code",
   "execution_count": 42,
   "id": "33187f11",
   "metadata": {},
   "outputs": [
    {
     "data": {
      "text/plain": [
       "(array(['', 'A1', 'A2', 'A3', 'A4', 'A5', 'B1', 'B2', 'B3', 'B4', 'B5', 'C1', 'C2', 'C3', 'C4',\n",
       "        'C5', 'D1', 'D2', 'D3', 'D4', 'D5', 'E1', 'E2', 'E3', 'E4', 'E5', 'F1', 'F2', 'F3', 'F4',\n",
       "        'F5', 'G1', 'G2', 'G3', 'G4', 'G5'], dtype='<U69'),\n",
       " array([  9, 285, 278, 239, 323, 592, 509, 517, 530, 553, 633, 629, 567, 586, 564, 577, 391, 267,\n",
       "        250, 255, 288, 235, 162, 171, 139, 160,  94,  52,  34,  43,  24,  19,  10,   3,   7,   5],\n",
       "       dtype=int64))"
      ]
     },
     "execution_count": 42,
     "metadata": {},
     "output_type": "execute_result"
    }
   ],
   "source": [
    "np.unique(loan_data_string[:,4], return_counts = True)\n",
    "# We see there are 9 instances where grade and sub_grade, both have missing values"
   ]
  },
  {
   "cell_type": "code",
   "execution_count": 43,
   "id": "3e87bc04",
   "metadata": {},
   "outputs": [],
   "source": [
    "# So, for filling the empty spaces we are defining a new subgrade H1\n",
    "loan_data_string[:,4] = np.where(loan_data_string[:,4] == '',\n",
    "                                  'H1',\n",
    "                                  loan_data_string[:,4])"
   ]
  },
  {
   "cell_type": "code",
   "execution_count": 44,
   "id": "cf2258b8",
   "metadata": {},
   "outputs": [
    {
     "data": {
      "text/plain": [
       "(array(['A1', 'A2', 'A3', 'A4', 'A5', 'B1', 'B2', 'B3', 'B4', 'B5', 'C1', 'C2', 'C3', 'C4', 'C5',\n",
       "        'D1', 'D2', 'D3', 'D4', 'D5', 'E1', 'E2', 'E3', 'E4', 'E5', 'F1', 'F2', 'F3', 'F4', 'F5',\n",
       "        'G1', 'G2', 'G3', 'G4', 'G5', 'H1'], dtype='<U69'),\n",
       " array([285, 278, 239, 323, 592, 509, 517, 530, 553, 633, 629, 567, 586, 564, 577, 391, 267, 250,\n",
       "        255, 288, 235, 162, 171, 139, 160,  94,  52,  34,  43,  24,  19,  10,   3,   7,   5,   9],\n",
       "       dtype=int64))"
      ]
     },
     "execution_count": 44,
     "metadata": {},
     "output_type": "execute_result"
    }
   ],
   "source": [
    "np.unique(loan_data_string[:,4], return_counts = True)"
   ]
  },
  {
   "cell_type": "markdown",
   "id": "d2f523a4",
   "metadata": {},
   "source": [
    "# Removing Grade"
   ]
  },
  {
   "cell_type": "code",
   "execution_count": 45,
   "id": "972113b4",
   "metadata": {},
   "outputs": [],
   "source": [
    "# Since the information about the grade can be found from subgrade, therefore it is redundant and can be deleted\n",
    "loan_data_string = np.delete(loan_data_string, 3, axis = 1)"
   ]
  },
  {
   "cell_type": "code",
   "execution_count": 46,
   "id": "e310d0b5",
   "metadata": {},
   "outputs": [
    {
     "data": {
      "text/plain": [
       "array(['C3', 'A5', 'B5', ..., 'A5', 'D2', 'A4'], dtype='<U69')"
      ]
     },
     "execution_count": 46,
     "metadata": {},
     "output_type": "execute_result"
    }
   ],
   "source": [
    "loan_data_string[:,3]"
   ]
  },
  {
   "cell_type": "code",
   "execution_count": 47,
   "id": "0e5029b6",
   "metadata": {},
   "outputs": [],
   "source": [
    "header_strings = np.delete(header_strings, 3)"
   ]
  },
  {
   "cell_type": "code",
   "execution_count": 48,
   "id": "86bf9af6",
   "metadata": {},
   "outputs": [
    {
     "data": {
      "text/plain": [
       "'sub_grade'"
      ]
     },
     "execution_count": 48,
     "metadata": {},
     "output_type": "execute_result"
    }
   ],
   "source": [
    "header_strings[3]"
   ]
  },
  {
   "cell_type": "markdown",
   "id": "20c5a51d",
   "metadata": {},
   "source": [
    "# Converting subgrade"
   ]
  },
  {
   "cell_type": "code",
   "execution_count": 49,
   "id": "d99b592a",
   "metadata": {},
   "outputs": [
    {
     "data": {
      "text/plain": [
       "{'A1': 1,\n",
       " 'A2': 2,\n",
       " 'A3': 3,\n",
       " 'A4': 4,\n",
       " 'A5': 5,\n",
       " 'B1': 6,\n",
       " 'B2': 7,\n",
       " 'B3': 8,\n",
       " 'B4': 9,\n",
       " 'B5': 10,\n",
       " 'C1': 11,\n",
       " 'C2': 12,\n",
       " 'C3': 13,\n",
       " 'C4': 14,\n",
       " 'C5': 15,\n",
       " 'D1': 16,\n",
       " 'D2': 17,\n",
       " 'D3': 18,\n",
       " 'D4': 19,\n",
       " 'D5': 20,\n",
       " 'E1': 21,\n",
       " 'E2': 22,\n",
       " 'E3': 23,\n",
       " 'E4': 24,\n",
       " 'E5': 25,\n",
       " 'F1': 26,\n",
       " 'F2': 27,\n",
       " 'F3': 28,\n",
       " 'F4': 29,\n",
       " 'F5': 30,\n",
       " 'G1': 31,\n",
       " 'G2': 32,\n",
       " 'G3': 33,\n",
       " 'G4': 34,\n",
       " 'G5': 35,\n",
       " 'H1': 36}"
      ]
     },
     "execution_count": 49,
     "metadata": {},
     "output_type": "execute_result"
    }
   ],
   "source": [
    "# We don't want to use np.where() everytime for accessing subgrades so we assign a value and convert it into a dictionary\n",
    "key_subgrade = list(np.unique(loan_data_string[:,3]))\n",
    "num_subgrade = list(range(1 , len(np.unique(loan_data_string[:,3])) + 1))\n",
    "dict_subgrade = dict(zip(key_subgrade , num_subgrade))\n",
    "dict_subgrade"
   ]
  },
  {
   "cell_type": "code",
   "execution_count": 50,
   "id": "6aa81917",
   "metadata": {},
   "outputs": [],
   "source": [
    "# Now we are replacing these values in the original data\n",
    "for i in np.unique(loan_data_string[:,3]):\n",
    "    loan_data_string[:,3] = np.where(loan_data_string[:,3] == i,\n",
    "                                     dict_subgrade[i],\n",
    "                                     loan_data_string[:,3])"
   ]
  },
  {
   "cell_type": "code",
   "execution_count": 51,
   "id": "5f608ed3",
   "metadata": {},
   "outputs": [
    {
     "data": {
      "text/plain": [
       "array(['1', '10', '11', '12', '13', '14', '15', '16', '17', '18', '19', '2', '20', '21', '22',\n",
       "       '23', '24', '25', '26', '27', '28', '29', '3', '30', '31', '32', '33', '34', '35', '36',\n",
       "       '4', '5', '6', '7', '8', '9'], dtype='<U69')"
      ]
     },
     "execution_count": 51,
     "metadata": {},
     "output_type": "execute_result"
    }
   ],
   "source": [
    "np.unique(loan_data_string[:,3])"
   ]
  },
  {
   "cell_type": "markdown",
   "id": "924ed177",
   "metadata": {},
   "source": [
    "# Verification status"
   ]
  },
  {
   "cell_type": "code",
   "execution_count": 52,
   "id": "b979dc11",
   "metadata": {},
   "outputs": [
    {
     "data": {
      "text/plain": [
       "array(['Issue_Date', 'loan_status', 'Term_months', 'sub_grade', 'verification_status', 'url',\n",
       "       'addr_state'], dtype='<U69')"
      ]
     },
     "execution_count": 52,
     "metadata": {},
     "output_type": "execute_result"
    }
   ],
   "source": [
    "header_strings"
   ]
  },
  {
   "cell_type": "code",
   "execution_count": 53,
   "id": "1c8736fc",
   "metadata": {},
   "outputs": [
    {
     "data": {
      "text/plain": [
       "array(['', 'Not Verified', 'Source Verified', 'Verified'], dtype='<U69')"
      ]
     },
     "execution_count": 53,
     "metadata": {},
     "output_type": "execute_result"
    }
   ],
   "source": [
    "np.unique(loan_data_string[:,4])"
   ]
  },
  {
   "cell_type": "code",
   "execution_count": 54,
   "id": "e6271c6d",
   "metadata": {},
   "outputs": [],
   "source": [
    "# '' & 'Not Verified' are considered bad = 0 amd the rest 2 are good = 1, so we replace them\n",
    "loan_data_string[:,4] = np.where((loan_data_string[:,4] == '') | (loan_data_string[:,4] == 'Not Verified'), 0, 1)"
   ]
  },
  {
   "cell_type": "code",
   "execution_count": 55,
   "id": "437d3703",
   "metadata": {},
   "outputs": [
    {
     "data": {
      "text/plain": [
       "array(['0', '1'], dtype='<U69')"
      ]
     },
     "execution_count": 55,
     "metadata": {},
     "output_type": "execute_result"
    }
   ],
   "source": [
    "np.unique(loan_data_string[:,4])"
   ]
  },
  {
   "cell_type": "markdown",
   "id": "c98bd548",
   "metadata": {},
   "source": [
    "# URL"
   ]
  },
  {
   "cell_type": "code",
   "execution_count": 56,
   "id": "5e831292",
   "metadata": {},
   "outputs": [
    {
     "data": {
      "text/plain": [
       "array(['https://www.lendingclub.com/browse/loanDetail.action?loan_id=48010226',\n",
       "       'https://www.lendingclub.com/browse/loanDetail.action?loan_id=57693261',\n",
       "       'https://www.lendingclub.com/browse/loanDetail.action?loan_id=59432726', ...,\n",
       "       'https://www.lendingclub.com/browse/loanDetail.action?loan_id=50415990',\n",
       "       'https://www.lendingclub.com/browse/loanDetail.action?loan_id=46154151',\n",
       "       'https://www.lendingclub.com/browse/loanDetail.action?loan_id=66055249'], dtype='<U69')"
      ]
     },
     "execution_count": 56,
     "metadata": {},
     "output_type": "execute_result"
    }
   ],
   "source": [
    "loan_data_string[:,5]"
   ]
  },
  {
   "cell_type": "code",
   "execution_count": 57,
   "id": "d734a968",
   "metadata": {},
   "outputs": [
    {
     "data": {
      "text/plain": [
       "array(['48010226', '57693261', '59432726', ..., '50415990', '46154151', '66055249'], dtype='<U69')"
      ]
     },
     "execution_count": 57,
     "metadata": {},
     "output_type": "execute_result"
    }
   ],
   "source": [
    "loan_data_string[:,5] = np.chararray.strip(loan_data_string[:,5] , 'https://www.lendingclub.com/browse/loanDetail.action?loan_id=')\n",
    "loan_data_string[:,5]"
   ]
  },
  {
   "cell_type": "code",
   "execution_count": 58,
   "id": "685ab5f6",
   "metadata": {},
   "outputs": [
    {
     "data": {
      "text/plain": [
       "array([48010226, 57693261, 59432726, ..., 50415990, 46154151, 66055249])"
      ]
     },
     "execution_count": 58,
     "metadata": {},
     "output_type": "execute_result"
    }
   ],
   "source": [
    "loan_data_string[:,5].astype(dtype = np.int32)"
   ]
  },
  {
   "cell_type": "code",
   "execution_count": 59,
   "id": "a8250eed",
   "metadata": {},
   "outputs": [
    {
     "data": {
      "text/plain": [
       "array(['id', 'issue_d', 'loan_amnt', 'loan_status', 'funded_amnt', 'term', 'int_rate',\n",
       "       'installment', 'grade', 'sub_grade', 'verification_status', 'url', 'addr_state',\n",
       "       'total_pymnt'], dtype='<U69')"
      ]
     },
     "execution_count": 59,
     "metadata": {},
     "output_type": "execute_result"
    }
   ],
   "source": [
    "# Now the values of loan_id in the url is same as the id in the original header_full or header_nums\n",
    "header_full"
   ]
  },
  {
   "cell_type": "code",
   "execution_count": 60,
   "id": "75216174",
   "metadata": {},
   "outputs": [
    {
     "data": {
      "text/plain": [
       "array([48010226, 57693261, 59432726, ..., 50415990, 46154151, 66055249])"
      ]
     },
     "execution_count": 60,
     "metadata": {},
     "output_type": "execute_result"
    }
   ],
   "source": [
    "loan_data_num[:,0].astype(dtype = np.int32)"
   ]
  },
  {
   "cell_type": "code",
   "execution_count": 61,
   "id": "92722cff",
   "metadata": {},
   "outputs": [],
   "source": [
    "# Since the proved loan_id and id are the same, we can delete the url column because its value can be derived from 'id'\n",
    "loan_data_string = np.delete(loan_data_string, 5, axis = 1)\n",
    "header_strings = np.delete(header_strings, 5)"
   ]
  },
  {
   "cell_type": "code",
   "execution_count": 62,
   "id": "e533f4ad",
   "metadata": {},
   "outputs": [
    {
     "data": {
      "text/plain": [
       "array(['CA', 'NY', 'PA', ..., 'CA', 'OH', 'IL'], dtype='<U69')"
      ]
     },
     "execution_count": 62,
     "metadata": {},
     "output_type": "execute_result"
    }
   ],
   "source": [
    "loan_data_string[:,5]"
   ]
  },
  {
   "cell_type": "code",
   "execution_count": 63,
   "id": "2a1994c1",
   "metadata": {},
   "outputs": [
    {
     "data": {
      "text/plain": [
       "array(['Issue_Date', 'loan_status', 'Term_months', 'sub_grade', 'verification_status',\n",
       "       'addr_state'], dtype='<U69')"
      ]
     },
     "execution_count": 63,
     "metadata": {},
     "output_type": "execute_result"
    }
   ],
   "source": [
    "header_strings"
   ]
  },
  {
   "cell_type": "markdown",
   "id": "4c2f04ed",
   "metadata": {},
   "source": [
    "# State address"
   ]
  },
  {
   "cell_type": "code",
   "execution_count": 64,
   "id": "64305d47",
   "metadata": {},
   "outputs": [
    {
     "data": {
      "text/plain": [
       "(array(['', 'AK', 'AL', 'AR', 'AZ', 'CA', 'CO', 'CT', 'DC', 'DE', 'FL', 'GA', 'HI', 'IL', 'IN',\n",
       "        'KS', 'KY', 'LA', 'MA', 'MD', 'ME', 'MI', 'MN', 'MO', 'MS', 'MT', 'NC', 'ND', 'NE', 'NH',\n",
       "        'NJ', 'NM', 'NV', 'NY', 'OH', 'OK', 'OR', 'PA', 'RI', 'SC', 'SD', 'TN', 'TX', 'UT', 'VA',\n",
       "        'VT', 'WA', 'WI', 'WV', 'WY'], dtype='<U69'),\n",
       " array([ 500,   26,  119,   74,  220, 1336,  201,  143,   27,   27,  690,  321,   44,  389,  152,\n",
       "          84,   84,  116,  210,  222,   10,  267,  156,  160,   61,   28,  261,   16,   25,   58,\n",
       "         341,   57,  130,  777,  312,   83,  108,  320,   40,  107,   24,  143,  758,   74,  242,\n",
       "          17,  216,  148,   49,   27], dtype=int64))"
      ]
     },
     "execution_count": 64,
     "metadata": {},
     "output_type": "execute_result"
    }
   ],
   "source": [
    "np.unique(loan_data_string[:,5], return_counts = True)"
   ]
  },
  {
   "cell_type": "code",
   "execution_count": 65,
   "id": "1c701795",
   "metadata": {},
   "outputs": [],
   "source": [
    "header_strings[5] = \"State_Address\""
   ]
  },
  {
   "cell_type": "code",
   "execution_count": 66,
   "id": "fad75379",
   "metadata": {},
   "outputs": [
    {
     "data": {
      "text/plain": [
       "array(['Issue_Date', 'loan_status', 'Term_months', 'sub_grade', 'verification_status',\n",
       "       'State_Address'], dtype='<U69')"
      ]
     },
     "execution_count": 66,
     "metadata": {},
     "output_type": "execute_result"
    }
   ],
   "source": [
    "header_strings"
   ]
  },
  {
   "cell_type": "code",
   "execution_count": 67,
   "id": "6e3a91f8",
   "metadata": {},
   "outputs": [
    {
     "data": {
      "text/plain": [
       "array(['0', 'AK', 'AL', 'AR', 'AZ', 'CA', 'CO', 'CT', 'DC', 'DE', 'FL', 'GA', 'HI', 'IL', 'IN',\n",
       "       'KS', 'KY', 'LA', 'MA', 'MD', 'ME', 'MI', 'MN', 'MO', 'MS', 'MT', 'NC', 'ND', 'NE', 'NH',\n",
       "       'NJ', 'NM', 'NV', 'NY', 'OH', 'OK', 'OR', 'PA', 'RI', 'SC', 'SD', 'TN', 'TX', 'UT', 'VA',\n",
       "       'VT', 'WA', 'WI', 'WV', 'WY'], dtype='<U69')"
      ]
     },
     "execution_count": 67,
     "metadata": {},
     "output_type": "execute_result"
    }
   ],
   "source": [
    "# We assume that the empty values in loan_data_string[:,5] are left blank for the base region,i.e., Iowa in US \n",
    "# So we split these regions on the basis of regions coded as 0-Iowa, 1, 2, 3, 4, 5\n",
    "loan_data_string[:,5] = np.where(loan_data_string[:,5] == '', 0, loan_data_string[:,5])\n",
    "np.unique(loan_data_string[:,5])"
   ]
  },
  {
   "cell_type": "code",
   "execution_count": 68,
   "id": "c4bd0733",
   "metadata": {},
   "outputs": [],
   "source": [
    "states_west = np.array(['WA', 'OR','CA','NV','ID','MT', 'WY','UT','CO', 'AZ','NM','HI','AK'])\n",
    "states_south = np.array(['TX','OK','AR','LA','MS','AL','TN','KY','FL','GA','SC','NC','VA','WV','MD','DE','DC'])\n",
    "states_midwest = np.array(['ND','SD','NE','KS','MN','IA','MO','WI','IL','IN','MI','OH'])\n",
    "states_east = np.array(['PA','NY','NJ','CT','MA','VT','NH','ME','RI'])"
   ]
  },
  {
   "cell_type": "code",
   "execution_count": 69,
   "id": "22b4ef79",
   "metadata": {},
   "outputs": [],
   "source": [
    "loan_data_string[:,5] = np.where(np.isin(loan_data_string[:,5], states_west), 1, loan_data_string[:,5])\n",
    "loan_data_string[:,5] = np.where(np.isin(loan_data_string[:,5], states_south), 2, loan_data_string[:,5])\n",
    "loan_data_string[:,5] = np.where(np.isin(loan_data_string[:,5], states_midwest), 3, loan_data_string[:,5])\n",
    "loan_data_string[:,5] = np.where(np.isin(loan_data_string[:,5], states_east), 4, loan_data_string[:,5])"
   ]
  },
  {
   "cell_type": "code",
   "execution_count": 70,
   "id": "d13d563f",
   "metadata": {},
   "outputs": [
    {
     "data": {
      "text/plain": [
       "array(['0', '1', '2', '3', '4'], dtype='<U69')"
      ]
     },
     "execution_count": 70,
     "metadata": {},
     "output_type": "execute_result"
    }
   ],
   "source": [
    "np.unique(loan_data_string[:,5])"
   ]
  },
  {
   "cell_type": "markdown",
   "id": "00fe5d2b",
   "metadata": {},
   "source": [
    "# Converting to numbers"
   ]
  },
  {
   "cell_type": "code",
   "execution_count": 71,
   "id": "df6e9810",
   "metadata": {},
   "outputs": [
    {
     "data": {
      "text/plain": [
       "array([['5', '1', '36', '13', '1', '1'],\n",
       "       ['0', '1', '36', '5', '1', '4'],\n",
       "       ['9', '1', '36', '10', '1', '4'],\n",
       "       ...,\n",
       "       ['6', '1', '36', '5', '1', '1'],\n",
       "       ['4', '1', '36', '17', '1', '3'],\n",
       "       ['12', '1', '36', '4', '0', '3']], dtype='<U69')"
      ]
     },
     "execution_count": 71,
     "metadata": {},
     "output_type": "execute_result"
    }
   ],
   "source": [
    "loan_data_string"
   ]
  },
  {
   "cell_type": "code",
   "execution_count": 72,
   "id": "29564e91",
   "metadata": {},
   "outputs": [
    {
     "data": {
      "text/plain": [
       "array([[ 5,  1, 36, 13,  1,  1],\n",
       "       [ 0,  1, 36,  5,  1,  4],\n",
       "       [ 9,  1, 36, 10,  1,  4],\n",
       "       ...,\n",
       "       [ 6,  1, 36,  5,  1,  1],\n",
       "       [ 4,  1, 36, 17,  1,  3],\n",
       "       [12,  1, 36,  4,  0,  3]])"
      ]
     },
     "execution_count": 72,
     "metadata": {},
     "output_type": "execute_result"
    }
   ],
   "source": [
    "loan_data_string = loan_data_string.astype(dtype = np.int32)\n",
    "loan_data_string"
   ]
  },
  {
   "cell_type": "markdown",
   "id": "6837feca",
   "metadata": {},
   "source": [
    "# Checkpoint 1 : For completing strings"
   ]
  },
  {
   "cell_type": "code",
   "execution_count": 73,
   "id": "e3a4f8d2",
   "metadata": {},
   "outputs": [],
   "source": [
    "checkpoint_strings = checkpoint(\"checkpoint-strings\", header_strings, loan_data_string)"
   ]
  },
  {
   "cell_type": "code",
   "execution_count": 74,
   "id": "a690462a",
   "metadata": {},
   "outputs": [
    {
     "data": {
      "text/plain": [
       "array(['Issue_Date', 'loan_status', 'Term_months', 'sub_grade', 'verification_status',\n",
       "       'State_Address'], dtype='<U69')"
      ]
     },
     "execution_count": 74,
     "metadata": {},
     "output_type": "execute_result"
    }
   ],
   "source": [
    "checkpoint_strings[\"header\"]"
   ]
  },
  {
   "cell_type": "code",
   "execution_count": 75,
   "id": "2035c88d",
   "metadata": {},
   "outputs": [
    {
     "data": {
      "text/plain": [
       "array([[ 5,  1, 36, 13,  1,  1],\n",
       "       [ 0,  1, 36,  5,  1,  4],\n",
       "       [ 9,  1, 36, 10,  1,  4],\n",
       "       ...,\n",
       "       [ 6,  1, 36,  5,  1,  1],\n",
       "       [ 4,  1, 36, 17,  1,  3],\n",
       "       [12,  1, 36,  4,  0,  3]])"
      ]
     },
     "execution_count": 75,
     "metadata": {},
     "output_type": "execute_result"
    }
   ],
   "source": [
    "checkpoint_strings[\"data\"]"
   ]
  },
  {
   "cell_type": "markdown",
   "id": "9444298d",
   "metadata": {},
   "source": [
    "# Manipulating Numeric Columns"
   ]
  },
  {
   "cell_type": "code",
   "execution_count": 76,
   "id": "8170cca2",
   "metadata": {},
   "outputs": [
    {
     "data": {
      "text/plain": [
       "array(['id', 'loan_amnt', 'funded_amnt', 'int_rate', 'installment', 'total_pymnt'], dtype='<U69')"
      ]
     },
     "execution_count": 76,
     "metadata": {},
     "output_type": "execute_result"
    }
   ],
   "source": [
    "header_nums"
   ]
  },
  {
   "cell_type": "code",
   "execution_count": 77,
   "id": "dc547e8b",
   "metadata": {},
   "outputs": [
    {
     "data": {
      "text/plain": [
       "array([[48010226.  ,    35000.  ,    35000.  ,       13.33,     1184.86,     9452.96],\n",
       "       [57693261.  ,    30000.  ,    30000.  , 68616520.  ,      938.57,     4679.7 ],\n",
       "       [59432726.  ,    15000.  ,    15000.  , 68616520.  ,      494.86,     1969.83],\n",
       "       ...,\n",
       "       [50415990.  ,    10000.  ,    10000.  , 68616520.  , 68616520.  ,     2185.64],\n",
       "       [46154151.  , 68616520.  ,    10000.  ,       16.55,      354.3 ,     3199.4 ],\n",
       "       [66055249.  ,    10000.  ,    10000.  , 68616520.  ,      309.97,      301.9 ]])"
      ]
     },
     "execution_count": 77,
     "metadata": {},
     "output_type": "execute_result"
    }
   ],
   "source": [
    "loan_data_num"
   ]
  },
  {
   "cell_type": "code",
   "execution_count": 78,
   "id": "937c578a",
   "metadata": {},
   "outputs": [
    {
     "data": {
      "text/plain": [
       "0"
      ]
     },
     "execution_count": 78,
     "metadata": {},
     "output_type": "execute_result"
    }
   ],
   "source": [
    "# Its a good practice to check for any nan values. However we have already substituted those values with temporary filler\n",
    "np.isnan(loan_data_num).sum()"
   ]
  },
  {
   "cell_type": "markdown",
   "id": "eeff4047",
   "metadata": {},
   "source": [
    "# ID"
   ]
  },
  {
   "cell_type": "code",
   "execution_count": 79,
   "id": "a65b5394",
   "metadata": {},
   "outputs": [
    {
     "data": {
      "text/plain": [
       "68616520.0"
      ]
     },
     "execution_count": 79,
     "metadata": {},
     "output_type": "execute_result"
    }
   ],
   "source": [
    "# The ID is a very crucial field and it should not contain any filler values and if it does we must substitute it with the \n",
    "# worst possible value\n",
    "temp_fill"
   ]
  },
  {
   "cell_type": "code",
   "execution_count": 80,
   "id": "c7a98569",
   "metadata": {},
   "outputs": [
    {
     "data": {
      "text/plain": [
       "array([False, False, False, ..., False, False, False])"
      ]
     },
     "execution_count": 80,
     "metadata": {},
     "output_type": "execute_result"
    }
   ],
   "source": [
    "np.isin(loan_data_num[:,0], temp_fill)"
   ]
  },
  {
   "cell_type": "code",
   "execution_count": 81,
   "id": "a9d53f0a",
   "metadata": {},
   "outputs": [
    {
     "data": {
      "text/plain": [
       "0"
      ]
     },
     "execution_count": 81,
     "metadata": {},
     "output_type": "execute_result"
    }
   ],
   "source": [
    "np.isin(loan_data_num[:,0], temp_fill).sum()"
   ]
  },
  {
   "cell_type": "markdown",
   "id": "912235cd",
   "metadata": {},
   "source": [
    "# Temporary Stats"
   ]
  },
  {
   "cell_type": "code",
   "execution_count": 82,
   "id": "f5573b4c",
   "metadata": {},
   "outputs": [
    {
     "data": {
      "text/plain": [
       "array([ 0,  2,  4,  6,  7, 13], dtype=int64)"
      ]
     },
     "execution_count": 82,
     "metadata": {},
     "output_type": "execute_result"
    }
   ],
   "source": [
    "column_num"
   ]
  },
  {
   "cell_type": "code",
   "execution_count": 83,
   "id": "5e62ce9a",
   "metadata": {},
   "outputs": [
    {
     "data": {
      "text/plain": [
       "array(['id', 'loan_amnt', 'funded_amnt', 'int_rate', 'installment', 'total_pymnt'], dtype='<U69')"
      ]
     },
     "execution_count": 83,
     "metadata": {},
     "output_type": "execute_result"
    }
   ],
   "source": [
    "header_nums"
   ]
  },
  {
   "cell_type": "code",
   "execution_count": 84,
   "id": "92f00bec",
   "metadata": {},
   "outputs": [
    {
     "data": {
      "text/plain": [
       "array([[48010226.  ,    35000.  ,    35000.  ,       13.33,     1184.86,     9452.96],\n",
       "       [57693261.  ,    30000.  ,    30000.  , 68616520.  ,      938.57,     4679.7 ],\n",
       "       [59432726.  ,    15000.  ,    15000.  , 68616520.  ,      494.86,     1969.83],\n",
       "       ...,\n",
       "       [50415990.  ,    10000.  ,    10000.  , 68616520.  , 68616520.  ,     2185.64],\n",
       "       [46154151.  , 68616520.  ,    10000.  ,       16.55,      354.3 ,     3199.4 ],\n",
       "       [66055249.  ,    10000.  ,    10000.  , 68616520.  ,      309.97,      301.9 ]])"
      ]
     },
     "execution_count": 84,
     "metadata": {},
     "output_type": "execute_result"
    }
   ],
   "source": [
    "loan_data_num"
   ]
  },
  {
   "cell_type": "code",
   "execution_count": 85,
   "id": "035df91d",
   "metadata": {},
   "outputs": [
    {
     "data": {
      "text/plain": [
       "array([[  373332.  ,     1000.  ,     1000.  ,        6.  ,       31.42,        0.  ],\n",
       "       [54015809.19,    15273.46,    15311.04,       16.62,      440.92,     3143.85],\n",
       "       [68616519.  ,    35000.  ,    35000.  ,       28.99,     1372.97,    41913.62]])"
      ]
     },
     "execution_count": 85,
     "metadata": {},
     "output_type": "execute_result"
    }
   ],
   "source": [
    "temp_stats[:,column_num]  # These are the nanmin, nanmean, nanmax of only the columns having numerical value"
   ]
  },
  {
   "cell_type": "code",
   "execution_count": 86,
   "id": "304e3d21",
   "metadata": {},
   "outputs": [],
   "source": [
    "# Only for funded_amnt we will substitute filler values with the column's minimum and the rest with the column's maximum "
   ]
  },
  {
   "cell_type": "markdown",
   "id": "202d348f",
   "metadata": {},
   "source": [
    "# Funded Amount"
   ]
  },
  {
   "cell_type": "code",
   "execution_count": 87,
   "id": "9ad07b9b",
   "metadata": {},
   "outputs": [
    {
     "data": {
      "text/plain": [
       "array([35000., 30000., 15000., ..., 10000., 10000., 10000.])"
      ]
     },
     "execution_count": 87,
     "metadata": {},
     "output_type": "execute_result"
    }
   ],
   "source": [
    "# So, we are replacing the filler values of funded_amnt (column=2 in loan_data_num) with min of that column\n",
    "loan_data_num[:,2] = np.where(loan_data_num[:,2] == temp_fill,\n",
    "                              temp_stats[0, column_num[2]], \n",
    "                              loan_data_num[:,2])\n",
    "loan_data_num[:,2]"
   ]
  },
  {
   "cell_type": "markdown",
   "id": "74c84887",
   "metadata": {},
   "source": [
    "# Loan Amount, Interest Rate, Installment, Total payment"
   ]
  },
  {
   "cell_type": "code",
   "execution_count": 88,
   "id": "1bf4a783",
   "metadata": {},
   "outputs": [
    {
     "data": {
      "text/plain": [
       "array([[48010226.  ,    35000.  ,    35000.  ,       13.33,     1184.86,     9452.96],\n",
       "       [57693261.  ,    30000.  ,    30000.  ,       28.99,      938.57,     4679.7 ],\n",
       "       [59432726.  ,    15000.  ,    15000.  ,       28.99,      494.86,     1969.83],\n",
       "       ...,\n",
       "       [50415990.  ,    10000.  ,    10000.  ,       28.99,     1372.97,     2185.64],\n",
       "       [46154151.  ,    35000.  ,    10000.  ,       16.55,      354.3 ,     3199.4 ],\n",
       "       [66055249.  ,    10000.  ,    10000.  ,       28.99,      309.97,      301.9 ]])"
      ]
     },
     "execution_count": 88,
     "metadata": {},
     "output_type": "execute_result"
    }
   ],
   "source": [
    "# Replacing with nanmax values\n",
    "for i in [1,3,4,5]:\n",
    "    loan_data_num[:,i] = np.where(loan_data_num[:,i] == temp_fill,\n",
    "                                      temp_stats[2, column_num[i]],\n",
    "                                      loan_data_num[:,i])\n",
    "loan_data_num"
   ]
  },
  {
   "cell_type": "markdown",
   "id": "132745e0",
   "metadata": {},
   "source": [
    "# Currency Change"
   ]
  },
  {
   "cell_type": "markdown",
   "id": "4fbb7e4a",
   "metadata": {},
   "source": [
    "# Exchange Rate"
   ]
  },
  {
   "cell_type": "code",
   "execution_count": 89,
   "id": "96a04564",
   "metadata": {},
   "outputs": [
    {
     "data": {
      "text/plain": [
       "array([['Open', 'High', 'Low', 'Close', 'Volume'],\n",
       "       ['1.2098628282546997', '1.2098628282546997', '1.11055588722229', '1.1287955045700073', '0'],\n",
       "       ['1.1287955045700073', '1.1484194993972778', '1.117680549621582', '1.1205360889434814',\n",
       "        '0'],\n",
       "       ['1.119795799255371', '1.1240400075912476', '1.0460032224655151', '1.0830246210098267',\n",
       "        '0'],\n",
       "       ['1.0741022825241089', '1.1247594356536865', '1.0521597862243652', '1.1114321947097778',\n",
       "        '0'],\n",
       "       ['1.1215037107467651', '1.145304799079895', '1.0821995735168457', '1.0960345268249512',\n",
       "        '0'],\n",
       "       ['1.095902442932129', '1.1428401470184326', '1.0888904333114624', '1.122296690940857', '0'],\n",
       "       ['1.1134989261627197', '1.1219995021820068', '1.081270456314087', '1.0939244031906128',\n",
       "        '0'],\n",
       "       ['1.0969001054763794', '1.1705996990203857', '1.0850305557250977', '1.1340054273605347',\n",
       "        '0'],\n",
       "       ['1.1225990056991577', '1.1460003852844238', '1.1089695692062378', '1.1255937814712524',\n",
       "        '0'],\n",
       "       ['1.1171561479568481', '1.1494200229644775', '1.0910003185272217', '1.100897192955017',\n",
       "        '0'],\n",
       "       ['1.1024993658065796', '1.1060001850128174', '1.056400179862976', '1.0583018064498901',\n",
       "        '0'],\n",
       "       ['1.0572947263717651', '1.107000470161438', '1.0541995763778687', '1.093398094177246', '0']],\n",
       "      dtype='<U18')"
      ]
     },
     "execution_count": 89,
     "metadata": {},
     "output_type": "execute_result"
    }
   ],
   "source": [
    "# These are the currency exchange rates for each month\n",
    "eur_usd_sample = np.genfromtxt('EUR-USD.csv', delimiter = ',', autostrip = True, dtype = np.str_)\n",
    "eur_usd_sample"
   ]
  },
  {
   "cell_type": "code",
   "execution_count": 90,
   "id": "408aa660",
   "metadata": {},
   "outputs": [
    {
     "data": {
      "text/plain": [
       "array([1.13, 1.12, 1.08, 1.11, 1.1 , 1.12, 1.09, 1.13, 1.13, 1.1 , 1.06, 1.09])"
      ]
     },
     "execution_count": 90,
     "metadata": {},
     "output_type": "execute_result"
    }
   ],
   "source": [
    "# But for our conversions we'll choose the 'close' field\n",
    "eur_usd = np.genfromtxt('EUR-USD.csv', delimiter = ',', autostrip = True, skip_header = 1, usecols = 3)\n",
    "eur_usd"
   ]
  },
  {
   "cell_type": "code",
   "execution_count": 91,
   "id": "028bc084",
   "metadata": {},
   "outputs": [
    {
     "data": {
      "text/plain": [
       "array([ 5,  0,  9, ...,  6,  4, 12])"
      ]
     },
     "execution_count": 91,
     "metadata": {},
     "output_type": "execute_result"
    }
   ],
   "source": [
    "loan_data_string[:,0]           #These are the issue dates data (months converted to numbers)"
   ]
  },
  {
   "cell_type": "code",
   "execution_count": 92,
   "id": "c0434c0f",
   "metadata": {},
   "outputs": [
    {
     "data": {
      "text/plain": [
       "array([1.1 , 1.11, 1.13, ..., 1.12, 1.11, 1.09])"
      ]
     },
     "execution_count": 92,
     "metadata": {},
     "output_type": "execute_result"
    }
   ],
   "source": [
    "# Now, we are creating an array having the corresponding exchange_rate to the given month\n",
    "# Where the month is zero, it is replaced by the mean of the eur_usd\n",
    "exchange_rate = loan_data_string[:,0]\n",
    "\n",
    "for i in range(1, 13):\n",
    "    exchange_rate = np.where(exchange_rate == i , eur_usd[i-1] , exchange_rate)\n",
    "    \n",
    "exchange_rate = np.where(exchange_rate == 0 , np.mean(eur_usd) , exchange_rate)\n",
    "exchange_rate"
   ]
  },
  {
   "cell_type": "code",
   "execution_count": 93,
   "id": "3fe22b4a",
   "metadata": {},
   "outputs": [
    {
     "data": {
      "text/plain": [
       "(10000,)"
      ]
     },
     "execution_count": 93,
     "metadata": {},
     "output_type": "execute_result"
    }
   ],
   "source": [
    "exchange_rate.shape"
   ]
  },
  {
   "cell_type": "code",
   "execution_count": 94,
   "id": "96610602",
   "metadata": {},
   "outputs": [
    {
     "data": {
      "text/plain": [
       "(10000, 6)"
      ]
     },
     "execution_count": 94,
     "metadata": {},
     "output_type": "execute_result"
    }
   ],
   "source": [
    "loan_data_num.shape"
   ]
  },
  {
   "cell_type": "code",
   "execution_count": 95,
   "id": "8428fa25",
   "metadata": {},
   "outputs": [],
   "source": [
    "# We have to reshape because loan_data_num is 2D and exchange_rate is 1D so stacking will not be possible\n",
    "exchange_rate = np.reshape(exchange_rate , (10000,1))"
   ]
  },
  {
   "cell_type": "code",
   "execution_count": 96,
   "id": "c8a84633",
   "metadata": {},
   "outputs": [
    {
     "data": {
      "text/plain": [
       "array([[48010226.  ,    35000.  ,    35000.  , ...,     1184.86,     9452.96,        1.1 ],\n",
       "       [57693261.  ,    30000.  ,    30000.  , ...,      938.57,     4679.7 ,        1.11],\n",
       "       [59432726.  ,    15000.  ,    15000.  , ...,      494.86,     1969.83,        1.13],\n",
       "       ...,\n",
       "       [50415990.  ,    10000.  ,    10000.  , ...,     1372.97,     2185.64,        1.12],\n",
       "       [46154151.  ,    35000.  ,    10000.  , ...,      354.3 ,     3199.4 ,        1.11],\n",
       "       [66055249.  ,    10000.  ,    10000.  , ...,      309.97,      301.9 ,        1.09]])"
      ]
     },
     "execution_count": 96,
     "metadata": {},
     "output_type": "execute_result"
    }
   ],
   "source": [
    "loan_data_num = np.hstack((loan_data_num, exchange_rate))\n",
    "loan_data_num"
   ]
  },
  {
   "cell_type": "code",
   "execution_count": 97,
   "id": "ca1cccb0",
   "metadata": {},
   "outputs": [
    {
     "data": {
      "text/plain": [
       "array(['id', 'loan_amnt', 'funded_amnt', 'int_rate', 'installment', 'total_pymnt', 'exchange_rate'],\n",
       "      dtype='<U69')"
      ]
     },
     "execution_count": 97,
     "metadata": {},
     "output_type": "execute_result"
    }
   ],
   "source": [
    "header_nums = np.concatenate((header_nums , np.array(['exchange_rate'])))\n",
    "header_nums\n",
    "# Thus we have successfully added a new field of exchange_rates for each month and its values"
   ]
  },
  {
   "cell_type": "markdown",
   "id": "9345c524",
   "metadata": {},
   "source": [
    "# From USD to EUR"
   ]
  },
  {
   "cell_type": "code",
   "execution_count": 98,
   "id": "5a3c336e",
   "metadata": {},
   "outputs": [],
   "source": [
    "columns_dollar = np.array([1, 2, 4, 5])          \n",
    "# Fields having values in dollar('loan_amnt', 'funded_amnt', 'installment', 'total_pymnt')"
   ]
  },
  {
   "cell_type": "code",
   "execution_count": 99,
   "id": "b850eaa6",
   "metadata": {},
   "outputs": [
    {
     "data": {
      "text/plain": [
       "array([1.1 , 1.11, 1.13, ..., 1.12, 1.11, 1.09])"
      ]
     },
     "execution_count": 99,
     "metadata": {},
     "output_type": "execute_result"
    }
   ],
   "source": [
    "loan_data_num[:,6]            # Exchange_rate values"
   ]
  },
  {
   "cell_type": "code",
   "execution_count": 100,
   "id": "5981a096",
   "metadata": {},
   "outputs": [],
   "source": [
    "# Converting the USD to EUR by formula (USD / exchange_rate = EUR) and we are stacking(or adding) the converted fields to \n",
    "# the original array\n",
    "for i in columns_dollar:\n",
    "    loan_data_num = np.hstack((loan_data_num , np.reshape(loan_data_num[:,i] / loan_data_num[:,6] , (10000,1))))"
   ]
  },
  {
   "cell_type": "code",
   "execution_count": 101,
   "id": "8ef51115",
   "metadata": {},
   "outputs": [
    {
     "data": {
      "text/plain": [
       "array([[48010226.  ,    35000.  ,    35000.  , ...,    31933.3 ,     1081.04,     8624.69],\n",
       "       [57693261.  ,    30000.  ,    30000.  , ...,    27132.46,      848.86,     4232.39],\n",
       "       [59432726.  ,    15000.  ,    15000.  , ...,    13326.3 ,      439.64,     1750.04],\n",
       "       ...,\n",
       "       [50415990.  ,    10000.  ,    10000.  , ...,     8910.3 ,     1223.36,     1947.47],\n",
       "       [46154151.  ,    35000.  ,    10000.  , ...,     8997.4 ,      318.78,     2878.63],\n",
       "       [66055249.  ,    10000.  ,    10000.  , ...,     9145.8 ,      283.49,      276.11]])"
      ]
     },
     "execution_count": 101,
     "metadata": {},
     "output_type": "execute_result"
    }
   ],
   "source": [
    "loan_data_num"
   ]
  },
  {
   "cell_type": "code",
   "execution_count": 102,
   "id": "4d0429e8",
   "metadata": {},
   "outputs": [
    {
     "data": {
      "text/plain": [
       "(10000, 11)"
      ]
     },
     "execution_count": 102,
     "metadata": {},
     "output_type": "execute_result"
    }
   ],
   "source": [
    "loan_data_num.shape\n",
    "# Earlier (10000, 6)\n",
    "# Because + 'exchange_rate' + 4 dollar to eur converted fields"
   ]
  },
  {
   "cell_type": "markdown",
   "id": "df1b124a",
   "metadata": {},
   "source": [
    "# Expanding the header"
   ]
  },
  {
   "cell_type": "code",
   "execution_count": 103,
   "id": "d8ae43f5",
   "metadata": {},
   "outputs": [
    {
     "data": {
      "text/plain": [
       "array(['id', 'loan_amnt', 'funded_amnt', 'int_rate', 'installment', 'total_pymnt', 'exchange_rate'],\n",
       "      dtype='<U69')"
      ]
     },
     "execution_count": 103,
     "metadata": {},
     "output_type": "execute_result"
    }
   ],
   "source": [
    "header_nums"
   ]
  },
  {
   "cell_type": "code",
   "execution_count": 104,
   "id": "59573c91",
   "metadata": {},
   "outputs": [
    {
     "data": {
      "text/plain": [
       "array(['loan_amnt_EUR', 'funded_amnt_EUR', 'installment_EUR', 'total_pymnt_EUR'], dtype='<U15')"
      ]
     },
     "execution_count": 104,
     "metadata": {},
     "output_type": "execute_result"
    }
   ],
   "source": [
    "header_addition = np.array([column_name + '_EUR' for column_name in header_nums[columns_dollar]])\n",
    "header_addition"
   ]
  },
  {
   "cell_type": "code",
   "execution_count": 105,
   "id": "ef0c8000",
   "metadata": {},
   "outputs": [
    {
     "data": {
      "text/plain": [
       "array(['id', 'loan_amnt', 'funded_amnt', 'int_rate', 'installment', 'total_pymnt', 'exchange_rate',\n",
       "       'loan_amnt_EUR', 'funded_amnt_EUR', 'installment_EUR', 'total_pymnt_EUR'], dtype='<U69')"
      ]
     },
     "execution_count": 105,
     "metadata": {},
     "output_type": "execute_result"
    }
   ],
   "source": [
    "header_nums = np.concatenate((header_nums , header_addition))\n",
    "header_nums"
   ]
  },
  {
   "cell_type": "code",
   "execution_count": 106,
   "id": "f803f7bd",
   "metadata": {},
   "outputs": [],
   "source": [
    "# We are adding _USD to dollar columns to be more descriptive \n",
    "header_nums[columns_dollar] = np.array([column_name + '_USD' for column_name in header_nums[columns_dollar]])"
   ]
  },
  {
   "cell_type": "code",
   "execution_count": 107,
   "id": "a806dd0b",
   "metadata": {},
   "outputs": [
    {
     "data": {
      "text/plain": [
       "array(['id', 'loan_amnt_USD', 'funded_amnt_USD', 'int_rate', 'installment_USD', 'total_pymnt_USD',\n",
       "       'exchange_rate', 'loan_amnt_EUR', 'funded_amnt_EUR', 'installment_EUR', 'total_pymnt_EUR'],\n",
       "      dtype='<U69')"
      ]
     },
     "execution_count": 107,
     "metadata": {},
     "output_type": "execute_result"
    }
   ],
   "source": [
    "header_nums"
   ]
  },
  {
   "cell_type": "code",
   "execution_count": 108,
   "id": "6c28db79",
   "metadata": {},
   "outputs": [
    {
     "data": {
      "text/plain": [
       "array(['id', 'loan_amnt_USD', 'loan_amnt_EUR', 'funded_amnt_USD', 'funded_amnt_EUR', 'int_rate',\n",
       "       'installment_USD', 'installment_EUR', 'total_pymnt_USD', 'total_pymnt_EUR', 'exchange_rate'],\n",
       "      dtype='<U69')"
      ]
     },
     "execution_count": 108,
     "metadata": {},
     "output_type": "execute_result"
    }
   ],
   "source": [
    "# Now we are rearranging the columns so that USD columns are followed by their corresponding EUR columns\n",
    "columns_index_order = [0, 1, 7, 2, 8, 3, 4, 9, 5, 10, 6]\n",
    "header_nums = header_nums[columns_index_order]\n",
    "header_nums"
   ]
  },
  {
   "cell_type": "code",
   "execution_count": 109,
   "id": "90645f4f",
   "metadata": {},
   "outputs": [
    {
     "data": {
      "text/plain": [
       "array([[48010226.  ,    35000.  ,    31933.3 , ...,     9452.96,     8624.69,        1.1 ],\n",
       "       [57693261.  ,    30000.  ,    27132.46, ...,     4679.7 ,     4232.39,        1.11],\n",
       "       [59432726.  ,    15000.  ,    13326.3 , ...,     1969.83,     1750.04,        1.13],\n",
       "       ...,\n",
       "       [50415990.  ,    10000.  ,     8910.3 , ...,     2185.64,     1947.47,        1.12],\n",
       "       [46154151.  ,    35000.  ,    31490.9 , ...,     3199.4 ,     2878.63,        1.11],\n",
       "       [66055249.  ,    10000.  ,     9145.8 , ...,      301.9 ,      276.11,        1.09]])"
      ]
     },
     "execution_count": 109,
     "metadata": {},
     "output_type": "execute_result"
    }
   ],
   "source": [
    "loan_data_num = loan_data_num[:,columns_index_order]\n",
    "loan_data_num"
   ]
  },
  {
   "cell_type": "markdown",
   "id": "ca640b77",
   "metadata": {},
   "source": [
    "# Interest Rate"
   ]
  },
  {
   "cell_type": "code",
   "execution_count": 110,
   "id": "77072920",
   "metadata": {},
   "outputs": [
    {
     "data": {
      "text/plain": [
       "'int_rate'"
      ]
     },
     "execution_count": 110,
     "metadata": {},
     "output_type": "execute_result"
    }
   ],
   "source": [
    "header_nums[5]"
   ]
  },
  {
   "cell_type": "code",
   "execution_count": 111,
   "id": "94d01e0f",
   "metadata": {},
   "outputs": [
    {
     "data": {
      "text/plain": [
       "array([13.33, 28.99, 28.99, ..., 28.99, 16.55, 28.99])"
      ]
     },
     "execution_count": 111,
     "metadata": {},
     "output_type": "execute_result"
    }
   ],
   "source": [
    "loan_data_num[:,5]"
   ]
  },
  {
   "cell_type": "code",
   "execution_count": 112,
   "id": "04f6d53c",
   "metadata": {},
   "outputs": [
    {
     "data": {
      "text/plain": [
       "array([0.13, 0.29, 0.29, ..., 0.29, 0.17, 0.29])"
      ]
     },
     "execution_count": 112,
     "metadata": {},
     "output_type": "execute_result"
    }
   ],
   "source": [
    "# Transform the interest rates to percentage values between 0 and 1\n",
    "loan_data_num[:,5] = loan_data_num[:,5] / 100\n",
    "loan_data_num[:,5]"
   ]
  },
  {
   "cell_type": "markdown",
   "id": "ca47ba11",
   "metadata": {},
   "source": [
    "# Checkpoint 2: Numeric"
   ]
  },
  {
   "cell_type": "code",
   "execution_count": 113,
   "id": "4426519f",
   "metadata": {},
   "outputs": [],
   "source": [
    "checkpoint_num = checkpoint(\"Checkpoint-Numeric\", header_nums, loan_data_num)"
   ]
  },
  {
   "cell_type": "code",
   "execution_count": 114,
   "id": "86997c28",
   "metadata": {},
   "outputs": [
    {
     "data": {
      "text/plain": [
       "(array(['id', 'loan_amnt_USD', 'loan_amnt_EUR', 'funded_amnt_USD', 'funded_amnt_EUR', 'int_rate',\n",
       "        'installment_USD', 'installment_EUR', 'total_pymnt_USD', 'total_pymnt_EUR', 'exchange_rate'],\n",
       "       dtype='<U69'),\n",
       " array([[48010226.  ,    35000.  ,    31933.3 , ...,     9452.96,     8624.69,        1.1 ],\n",
       "        [57693261.  ,    30000.  ,    27132.46, ...,     4679.7 ,     4232.39,        1.11],\n",
       "        [59432726.  ,    15000.  ,    13326.3 , ...,     1969.83,     1750.04,        1.13],\n",
       "        ...,\n",
       "        [50415990.  ,    10000.  ,     8910.3 , ...,     2185.64,     1947.47,        1.12],\n",
       "        [46154151.  ,    35000.  ,    31490.9 , ...,     3199.4 ,     2878.63,        1.11],\n",
       "        [66055249.  ,    10000.  ,     9145.8 , ...,      301.9 ,      276.11,        1.09]]))"
      ]
     },
     "execution_count": 114,
     "metadata": {},
     "output_type": "execute_result"
    }
   ],
   "source": [
    "checkpoint_num[\"header\"], checkpoint_num[\"data\"]"
   ]
  },
  {
   "cell_type": "markdown",
   "id": "482a846b",
   "metadata": {},
   "source": [
    "# Creating the \"Complete\" Dataset"
   ]
  },
  {
   "cell_type": "code",
   "execution_count": 115,
   "id": "e1a1b429",
   "metadata": {},
   "outputs": [
    {
     "data": {
      "text/plain": [
       "(10000, 6)"
      ]
     },
     "execution_count": 115,
     "metadata": {},
     "output_type": "execute_result"
    }
   ],
   "source": [
    "checkpoint_strings['data'].shape"
   ]
  },
  {
   "cell_type": "code",
   "execution_count": 116,
   "id": "6e12563d",
   "metadata": {},
   "outputs": [
    {
     "data": {
      "text/plain": [
       "(10000, 11)"
      ]
     },
     "execution_count": 116,
     "metadata": {},
     "output_type": "execute_result"
    }
   ],
   "source": [
    "checkpoint_num[\"data\"].shape"
   ]
  },
  {
   "cell_type": "code",
   "execution_count": 117,
   "id": "f2bb11d1",
   "metadata": {},
   "outputs": [
    {
     "data": {
      "text/plain": [
       "array([[48010226.  ,    35000.  ,    31933.3 , ...,       13.  ,        1.  ,        1.  ],\n",
       "       [57693261.  ,    30000.  ,    27132.46, ...,        5.  ,        1.  ,        4.  ],\n",
       "       [59432726.  ,    15000.  ,    13326.3 , ...,       10.  ,        1.  ,        4.  ],\n",
       "       ...,\n",
       "       [50415990.  ,    10000.  ,     8910.3 , ...,        5.  ,        1.  ,        1.  ],\n",
       "       [46154151.  ,    35000.  ,    31490.9 , ...,       17.  ,        1.  ,        3.  ],\n",
       "       [66055249.  ,    10000.  ,     9145.8 , ...,        4.  ,        0.  ,        3.  ]])"
      ]
     },
     "execution_count": 117,
     "metadata": {},
     "output_type": "execute_result"
    }
   ],
   "source": [
    "loan_data = np.hstack((checkpoint_num[\"data\"] , checkpoint_strings['data']))\n",
    "loan_data"
   ]
  },
  {
   "cell_type": "code",
   "execution_count": 118,
   "id": "caca237d",
   "metadata": {},
   "outputs": [
    {
     "data": {
      "text/plain": [
       "(10000, 17)"
      ]
     },
     "execution_count": 118,
     "metadata": {},
     "output_type": "execute_result"
    }
   ],
   "source": [
    "loan_data.shape"
   ]
  },
  {
   "cell_type": "code",
   "execution_count": 119,
   "id": "93f576e4",
   "metadata": {},
   "outputs": [
    {
     "data": {
      "text/plain": [
       "0"
      ]
     },
     "execution_count": 119,
     "metadata": {},
     "output_type": "execute_result"
    }
   ],
   "source": [
    "np.isnan(loan_data).sum()"
   ]
  },
  {
   "cell_type": "code",
   "execution_count": 120,
   "id": "3609bc9c",
   "metadata": {},
   "outputs": [
    {
     "data": {
      "text/plain": [
       "array(['id', 'loan_amnt_USD', 'loan_amnt_EUR', 'funded_amnt_USD', 'funded_amnt_EUR', 'int_rate',\n",
       "       'installment_USD', 'installment_EUR', 'total_pymnt_USD', 'total_pymnt_EUR', 'exchange_rate',\n",
       "       'Issue_Date', 'loan_status', 'Term_months', 'sub_grade', 'verification_status',\n",
       "       'State_Address'], dtype='<U69')"
      ]
     },
     "execution_count": 120,
     "metadata": {},
     "output_type": "execute_result"
    }
   ],
   "source": [
    "header_full = np.concatenate((checkpoint_num[\"header\"] , checkpoint_strings[\"header\"]))\n",
    "header_full"
   ]
  },
  {
   "cell_type": "markdown",
   "id": "7211fda6",
   "metadata": {},
   "source": [
    "# Sorting the new dataset"
   ]
  },
  {
   "cell_type": "code",
   "execution_count": 121,
   "id": "970c2023",
   "metadata": {},
   "outputs": [
    {
     "data": {
      "text/plain": [
       "array([  373332.,   575239.,   707689., ..., 68614880., 68615915., 68616519.])"
      ]
     },
     "execution_count": 121,
     "metadata": {},
     "output_type": "execute_result"
    }
   ],
   "source": [
    "# We will sort the complete dataset according to the first column id\n",
    "np.sort(loan_data[:,0])"
   ]
  },
  {
   "cell_type": "code",
   "execution_count": 122,
   "id": "98fb7ed6",
   "metadata": {},
   "outputs": [
    {
     "data": {
      "text/plain": [
       "array([[  373332.  ,     9950.  ,     9038.08, ...,       21.  ,        0.  ,        1.  ],\n",
       "       [  575239.  ,    12000.  ,    10900.2 , ...,       25.  ,        1.  ,        2.  ],\n",
       "       [  707689.  ,    10000.  ,     8924.3 , ...,       13.  ,        1.  ,        0.  ],\n",
       "       ...,\n",
       "       [68614880.  ,     5600.  ,     5121.65, ...,        8.  ,        1.  ,        1.  ],\n",
       "       [68615915.  ,     4000.  ,     3658.32, ...,       10.  ,        1.  ,        2.  ],\n",
       "       [68616519.  ,    21600.  ,    19754.93, ...,        3.  ,        0.  ,        2.  ]])"
      ]
     },
     "execution_count": 122,
     "metadata": {},
     "output_type": "execute_result"
    }
   ],
   "source": [
    "loan_data = loan_data[np.argsort(loan_data[:,0])]\n",
    "loan_data"
   ]
  },
  {
   "cell_type": "code",
   "execution_count": 123,
   "id": "8ebbd71d",
   "metadata": {},
   "outputs": [
    {
     "data": {
      "text/plain": [
       "array([   0,    1,    2, ..., 9997, 9998, 9999], dtype=int64)"
      ]
     },
     "execution_count": 123,
     "metadata": {},
     "output_type": "execute_result"
    }
   ],
   "source": [
    "# Checking if the id index is sorted\n",
    "np.argsort(loan_data[:,0])"
   ]
  },
  {
   "cell_type": "markdown",
   "id": "9fb52226",
   "metadata": {},
   "source": [
    "# Storing the new dataset"
   ]
  },
  {
   "cell_type": "code",
   "execution_count": 124,
   "id": "188f2713",
   "metadata": {},
   "outputs": [
    {
     "data": {
      "text/plain": [
       "array([['id', 'loan_amnt_USD', 'loan_amnt_EUR', ..., 'sub_grade', 'verification_status',\n",
       "        'State_Address'],\n",
       "       ['373332.0', '9950.0', '9038.082814338286', ..., '21.0', '0.0', '1.0'],\n",
       "       ['575239.0', '12000.0', '10900.20037910145', ..., '25.0', '1.0', '2.0'],\n",
       "       ...,\n",
       "       ['68614880.0', '5600.0', '5121.647851612413', ..., '8.0', '1.0', '1.0'],\n",
       "       ['68615915.0', '4000.0', '3658.319894008867', ..., '10.0', '1.0', '2.0'],\n",
       "       ['68616519.0', '21600.0', '19754.927427647883', ..., '3.0', '0.0', '2.0']], dtype='<U69')"
      ]
     },
     "execution_count": 124,
     "metadata": {},
     "output_type": "execute_result"
    }
   ],
   "source": [
    "my_loan_data = np.vstack((header_full , loan_data))\n",
    "my_loan_data"
   ]
  },
  {
   "cell_type": "code",
   "execution_count": 125,
   "id": "5c837d92",
   "metadata": {},
   "outputs": [],
   "source": [
    "np.savetxt(\"loan-data-preprocessed.csv\" , my_loan_data , fmt = \"%s\" , delimiter = ',')"
   ]
  },
  {
   "cell_type": "code",
   "execution_count": null,
   "id": "9236aeaf",
   "metadata": {},
   "outputs": [],
   "source": []
  }
 ],
 "metadata": {
  "kernelspec": {
   "display_name": "Python 3 (ipykernel)",
   "language": "python",
   "name": "python3"
  },
  "language_info": {
   "codemirror_mode": {
    "name": "ipython",
    "version": 3
   },
   "file_extension": ".py",
   "mimetype": "text/x-python",
   "name": "python",
   "nbconvert_exporter": "python",
   "pygments_lexer": "ipython3",
   "version": "3.11.4"
  }
 },
 "nbformat": 4,
 "nbformat_minor": 5
}
